{
  "nbformat": 4,
  "nbformat_minor": 0,
  "metadata": {
    "colab": {
      "name": "Homework_ML_Week5_SVD.ipynb",
      "provenance": [],
      "include_colab_link": true
    },
    "kernelspec": {
      "name": "python3",
      "display_name": "Python 3"
    },
    "language_info": {
      "name": "python"
    }
  },
  "cells": [
    {
      "cell_type": "markdown",
      "metadata": {
        "id": "view-in-github",
        "colab_type": "text"
      },
      "source": [
        "<a href=\"https://colab.research.google.com/github/fariz9980/MachineLearning_TK-42-G6/blob/main/Homework_ML_Week5_SVD.ipynb\" target=\"_parent\"><img src=\"https://colab.research.google.com/assets/colab-badge.svg\" alt=\"Open In Colab\"/></a>"
      ]
    },
    {
      "cell_type": "code",
      "metadata": {
        "id": "17JWmH1C54Du"
      },
      "source": [
        "#import linier algebra, eigen value, eigen vector, normalized the vectors\n",
        "import numpy as np\n",
        "from numpy.linalg import eigh, norm"
      ],
      "execution_count": 1,
      "outputs": []
    },
    {
      "cell_type": "code",
      "metadata": {
        "id": "xVZtvXJq7LeR"
      },
      "source": [
        "#matriks ukuran mxn\n",
        "A=np.array([[-5, 2, 3], [2, 5, 1], [-3, 1, -5]])"
      ],
      "execution_count": 2,
      "outputs": []
    },
    {
      "cell_type": "code",
      "metadata": {
        "colab": {
          "base_uri": "https://localhost:8080/"
        },
        "id": "kvlUQUON7j43",
        "outputId": "c887b0b2-067c-46b5-b8f6-494b09f90ac6"
      },
      "source": [
        "A.T@A"
      ],
      "execution_count": 3,
      "outputs": [
        {
          "output_type": "execute_result",
          "data": {
            "text/plain": [
              "array([[38, -3,  2],\n",
              "       [-3, 30,  6],\n",
              "       [ 2,  6, 35]])"
            ]
          },
          "metadata": {},
          "execution_count": 3
        }
      ]
    },
    {
      "cell_type": "code",
      "metadata": {
        "colab": {
          "base_uri": "https://localhost:8080/"
        },
        "id": "Bv3xSSvBQiSn",
        "outputId": "5fad77ce-8187-4d29-83e5-2a237b1ba673"
      },
      "source": [
        "#eigen values & V\n",
        "eigh(A.T@A)"
      ],
      "execution_count": 4,
      "outputs": [
        {
          "output_type": "execute_result",
          "data": {
            "text/plain": [
              "(array([25., 39., 39.]), array([[ 0.26726124, -0.96362411,  0.        ],\n",
              "        [ 0.80178373,  0.22237479,  0.5547002 ],\n",
              "        [-0.53452248, -0.14824986,  0.83205029]]))"
            ]
          },
          "metadata": {},
          "execution_count": 4
        }
      ]
    },
    {
      "cell_type": "code",
      "metadata": {
        "id": "o_1VnbHQQ1HA"
      },
      "source": [
        "ev, V =eigh(A.T@A)"
      ],
      "execution_count": 5,
      "outputs": []
    },
    {
      "cell_type": "code",
      "metadata": {
        "colab": {
          "base_uri": "https://localhost:8080/"
        },
        "id": "gwVNn7C3Q-30",
        "outputId": "f07c6b84-ca50-4ac8-b324-2ae0e749e622"
      },
      "source": [
        "V"
      ],
      "execution_count": 6,
      "outputs": [
        {
          "output_type": "execute_result",
          "data": {
            "text/plain": [
              "array([[ 0.26726124, -0.96362411,  0.        ],\n",
              "       [ 0.80178373,  0.22237479,  0.5547002 ],\n",
              "       [-0.53452248, -0.14824986,  0.83205029]])"
            ]
          },
          "metadata": {},
          "execution_count": 6
        }
      ]
    },
    {
      "cell_type": "code",
      "metadata": {
        "colab": {
          "base_uri": "https://localhost:8080/"
        },
        "id": "SCShXoxBRDmS",
        "outputId": "3178a68f-e18e-47da-9669-b2a8e0c7572b"
      },
      "source": [
        "V[0]"
      ],
      "execution_count": 7,
      "outputs": [
        {
          "output_type": "execute_result",
          "data": {
            "text/plain": [
              "array([ 0.26726124, -0.96362411,  0.        ])"
            ]
          },
          "metadata": {},
          "execution_count": 7
        }
      ]
    },
    {
      "cell_type": "code",
      "metadata": {
        "colab": {
          "base_uri": "https://localhost:8080/"
        },
        "id": "kpzaE7cwRGkr",
        "outputId": "4f890c84-ccc9-495e-b695-37a90b0d52cd"
      },
      "source": [
        "V[:,0]"
      ],
      "execution_count": 8,
      "outputs": [
        {
          "output_type": "execute_result",
          "data": {
            "text/plain": [
              "array([ 0.26726124,  0.80178373, -0.53452248])"
            ]
          },
          "metadata": {},
          "execution_count": 8
        }
      ]
    },
    {
      "cell_type": "code",
      "metadata": {
        "id": "nexNbSG1RN40"
      },
      "source": [
        "u0= A@V[:,0]/norm(A@V[:,0])\n",
        "u1= A@V[:,1]/norm(A@V[:,1])\n",
        "u2= A@V[:,2]/norm(A@V[:,2])"
      ],
      "execution_count": 9,
      "outputs": []
    },
    {
      "cell_type": "code",
      "metadata": {
        "id": "ne2GGuSuRnOj"
      },
      "source": [
        "U=np.array([u0,u1,u2]).T"
      ],
      "execution_count": 10,
      "outputs": []
    },
    {
      "cell_type": "code",
      "metadata": {
        "colab": {
          "base_uri": "https://localhost:8080/"
        },
        "id": "qIFLGEPFR4yt",
        "outputId": "e2d7118c-a108-43f1-830e-b63368b2c599"
      },
      "source": [
        "U.T@A@V"
      ],
      "execution_count": 11,
      "outputs": [
        {
          "output_type": "execute_result",
          "data": {
            "text/plain": [
              "array([[ 5.00000000e+00,  4.61927558e-17, -5.80878766e-17],\n",
              "       [-3.24483433e-16,  6.24499800e+00,  1.06687423e-16],\n",
              "       [-2.24630037e-16, -1.28454465e-17,  6.24499800e+00]])"
            ]
          },
          "metadata": {},
          "execution_count": 11
        }
      ]
    },
    {
      "cell_type": "code",
      "metadata": {
        "colab": {
          "base_uri": "https://localhost:8080/"
        },
        "id": "HL1e7OdJRuBn",
        "outputId": "abc861b1-3ec8-4df7-e077-7504cac09b45"
      },
      "source": [
        "#pembulatan\n",
        "np.round(U.T@A@V, decimals=5)"
      ],
      "execution_count": 12,
      "outputs": [
        {
          "output_type": "execute_result",
          "data": {
            "text/plain": [
              "array([[ 5.   ,  0.   , -0.   ],\n",
              "       [-0.   ,  6.245,  0.   ],\n",
              "       [-0.   , -0.   ,  6.245]])"
            ]
          },
          "metadata": {},
          "execution_count": 12
        }
      ]
    },
    {
      "cell_type": "code",
      "metadata": {
        "id": "uGzcKYIXSNlc"
      },
      "source": [
        "#A = U@D@V.T is the SVD"
      ],
      "execution_count": 13,
      "outputs": []
    }
  ]
}